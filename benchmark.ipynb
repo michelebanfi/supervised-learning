{
 "cells": [
  {
   "cell_type": "code",
   "id": "initial_id",
   "metadata": {
    "collapsed": true,
    "ExecuteTime": {
     "end_time": "2024-06-01T14:21:27.225690Z",
     "start_time": "2024-06-01T14:21:26.462771Z"
    }
   },
   "source": "import pandas as pd",
   "outputs": [],
   "execution_count": 1
  },
  {
   "metadata": {
    "ExecuteTime": {
     "end_time": "2024-06-02T08:30:11.850579Z",
     "start_time": "2024-06-02T08:30:11.771149Z"
    }
   },
   "cell_type": "code",
   "source": "classinfo = pd.read_csv('Data/annot/train_info.csv')",
   "id": "c506aeec57f1a60f",
   "outputs": [],
   "execution_count": 14
  },
  {
   "metadata": {
    "ExecuteTime": {
     "end_time": "2024-06-02T08:30:15.601590Z",
     "start_time": "2024-06-02T08:30:15.595339Z"
    }
   },
   "cell_type": "code",
   "source": "classinfo['class']",
   "id": "e4c2cf397720c162",
   "outputs": [
    {
     "data": {
      "text/plain": [
       "0         211\n",
       "1         211\n",
       "2         211\n",
       "3         211\n",
       "4         211\n",
       "         ... \n",
       "118470    123\n",
       "118471    123\n",
       "118472    123\n",
       "118473    123\n",
       "118474    123\n",
       "Name: class, Length: 118475, dtype: int64"
      ]
     },
     "execution_count": 15,
     "metadata": {},
     "output_type": "execute_result"
    }
   ],
   "execution_count": 15
  },
  {
   "metadata": {},
   "cell_type": "code",
   "outputs": [],
   "execution_count": null,
   "source": "",
   "id": "6b0cb73e96789c7c"
  }
 ],
 "metadata": {
  "kernelspec": {
   "display_name": "Python 3",
   "language": "python",
   "name": "python3"
  },
  "language_info": {
   "codemirror_mode": {
    "name": "ipython",
    "version": 2
   },
   "file_extension": ".py",
   "mimetype": "text/x-python",
   "name": "python",
   "nbconvert_exporter": "python",
   "pygments_lexer": "ipython2",
   "version": "2.7.6"
  }
 },
 "nbformat": 4,
 "nbformat_minor": 5
}
