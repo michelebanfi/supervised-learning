{
 "cells": [
  {
   "cell_type": "code",
   "id": "initial_id",
   "metadata": {
    "collapsed": true,
    "ExecuteTime": {
     "end_time": "2024-06-02T09:32:05.817434Z",
     "start_time": "2024-06-02T09:32:05.141085Z"
    }
   },
   "source": "import pandas as pd",
   "outputs": [],
   "execution_count": 1
  },
  {
   "metadata": {
    "ExecuteTime": {
     "end_time": "2024-06-02T09:35:57.284026Z",
     "start_time": "2024-06-02T09:35:57.280186Z"
    }
   },
   "cell_type": "code",
   "source": "",
   "id": "e4c2cf397720c162",
   "outputs": [],
   "execution_count": 10
  },
  {
   "metadata": {
    "ExecuteTime": {
     "end_time": "2024-06-02T09:35:57.466179Z",
     "start_time": "2024-06-02T09:35:57.430445Z"
    }
   },
   "cell_type": "code",
   "source": "add_string(\"Data/annot/train_info.csv\", \"image,class\\n\")",
   "id": "6b0cb73e96789c7c",
   "outputs": [],
   "execution_count": 11
  },
  {
   "metadata": {},
   "cell_type": "code",
   "outputs": [],
   "execution_count": null,
   "source": "",
   "id": "b27eb8ab5ffcd4d5"
  }
 ],
 "metadata": {
  "kernelspec": {
   "display_name": "Python 3",
   "language": "python",
   "name": "python3"
  },
  "language_info": {
   "codemirror_mode": {
    "name": "ipython",
    "version": 2
   },
   "file_extension": ".py",
   "mimetype": "text/x-python",
   "name": "python",
   "nbconvert_exporter": "python",
   "pygments_lexer": "ipython2",
   "version": "2.7.6"
  }
 },
 "nbformat": 4,
 "nbformat_minor": 5
}
